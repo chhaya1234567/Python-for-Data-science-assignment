{
 "cells": [
  {
   "cell_type": "markdown",
   "id": "080e3fe1-edb6-48cb-8cb5-74c1aded300f",
   "metadata": {},
   "source": [
    "# Q1.Which keyword is used to create a function? Create a function to return a list of odd numbers in the range of 1 to 25."
   ]
  },
  {
   "cell_type": "markdown",
   "id": "c3e20b24-825f-4ccc-9c59-c67fb590a336",
   "metadata": {},
   "source": [
    "## *def* keyword is used to create a function"
   ]
  },
  {
   "cell_type": "code",
   "execution_count": 2,
   "id": "1d3f763d-dc51-4068-a42e-bebf59f92ced",
   "metadata": {},
   "outputs": [
    {
     "name": "stdout",
     "output_type": "stream",
     "text": [
      "[1, 3, 5, 7, 9, 11, 13, 15, 17, 19, 21, 23, 25]\n"
     ]
    }
   ],
   "source": [
    "# Creating a function to return a list of odd numbers in the range of 1 to 25.¶\n",
    "R=range(1,26)\n",
    "def odd(numbers):\n",
    "    l=[]\n",
    "    for i in numbers:\n",
    "        if i % 2 != 0:\n",
    "            l.append(i)\n",
    "    return l\n",
    "print(odd(R))"
   ]
  },
  {
   "cell_type": "markdown",
   "id": "5cdc971d-f492-4382-b507-f36b446f698a",
   "metadata": {},
   "source": [
    "# Q2. Why *args and **kwargs is used in some functions? Create a function each for *args and **kwargs todemonstrate their use."
   ]
  },
  {
   "cell_type": "markdown",
   "id": "900f9788-83aa-4050-8eff-96439f335166",
   "metadata": {
    "tags": []
   },
   "source": [
    "## *args* - when we are not sure about the number of arguments that can be passed to a function. Python has args which allow us to pass the variable number of non keyword arguments to function.In the function, we should use an asterisk * before the parameter name to pass variable length arguments.The arguments are passed as a tuple and these passed arguments make tuple inside the function with same name as the parameter excluding asterisk *."
   ]
  },
  {
   "cell_type": "code",
   "execution_count": 4,
   "id": "c196f80e-3d8c-409b-adb8-35d5a5bf324e",
   "metadata": {},
   "outputs": [
    {
     "name": "stdout",
     "output_type": "stream",
     "text": [
      "Sum: 8\n",
      "Sum: 22\n",
      "Sum: 17\n"
     ]
    }
   ],
   "source": [
    "# example for *args\n",
    "def adder(*num):\n",
    "    sum = 0\n",
    "    \n",
    "    for n in num:\n",
    "        sum = sum + n\n",
    "\n",
    "    print(\"Sum:\",sum)\n",
    "\n",
    "adder(3,5)\n",
    "adder(4,5,6,7)\n",
    "adder(1,2,3,5,6)"
   ]
  },
  {
   "cell_type": "markdown",
   "id": "53b99d82-a383-40ff-a5d9-a0c9dac96fce",
   "metadata": {},
   "source": [
    "## *kwargs* - it allows us to pass the variable length of keyword arguments to the function.The arguments are passed as a dictionary and these arguments make a dictionary inside function with name same as the parameter excluding double asterisk ."
   ]
  },
  {
   "cell_type": "code",
   "execution_count": 5,
   "id": "0b7e5b9d-b3cd-4c29-b0ec-151d430455a7",
   "metadata": {},
   "outputs": [
    {
     "name": "stdout",
     "output_type": "stream",
     "text": [
      "\n",
      "Data type of argument: <class 'dict'>\n",
      "Firstname is Sita\n",
      "Lastname is Sharma\n",
      "Age is 22\n",
      "Phone is 1234567890\n",
      "\n",
      "Data type of argument: <class 'dict'>\n",
      "Firstname is John\n",
      "Lastname is Wood\n",
      "Email is johnwood@nomail.com\n",
      "Country is Wakanda\n",
      "Age is 25\n",
      "Phone is 9876543210\n"
     ]
    }
   ],
   "source": [
    "# example for **kwargs\n",
    "def intro(**data):\n",
    "    print(\"\\nData type of argument:\",type(data))\n",
    "\n",
    "    for key, value in data.items():\n",
    "        print(\"{} is {}\".format(key,value))\n",
    "\n",
    "intro(Firstname=\"Sita\", Lastname=\"Sharma\", Age=22, Phone=1234567890)\n",
    "intro(Firstname=\"John\", Lastname=\"Wood\", Email=\"johnwood@nomail.com\", Country=\"Wakanda\", Age=25, Phone=9876543210)"
   ]
  },
  {
   "cell_type": "markdown",
   "id": "2bdf6a08-f00f-4720-b3d4-cc6407229a6f",
   "metadata": {},
   "source": [
    "# Q3. What is an iterator in python? Name the method used to initialise the iterator object and the method used for iteration. Use these methods to print the first five elements of the given list [2, 4, 6, 8, 10, 12, 14, 16,18, 20]."
   ]
  },
  {
   "cell_type": "markdown",
   "id": "929e0151-602f-4547-84e9-06231ee5e533",
   "metadata": {},
   "source": [
    "## An iterator is an object that can be iterated upon, meaning that you can traverse through all the values.\n",
    "## Lists, tuples, dictionaries, and sets are all iterable objects. They are iterable containers which you can get an iterator from. All these objects have a iter() method which is used to get an iterator:"
   ]
  },
  {
   "cell_type": "code",
   "execution_count": 7,
   "id": "922c5f3b-0c71-42e6-bec1-99f8b2827204",
   "metadata": {},
   "outputs": [
    {
     "name": "stdout",
     "output_type": "stream",
     "text": [
      "2\n",
      "4\n",
      "6\n",
      "8\n",
      "10\n"
     ]
    }
   ],
   "source": [
    "l=[2, 4, 6, 8, 10, 12, 14, 16,18, 20]\n",
    "l1=iter(l)\n",
    "l1 for i in range(5):\n",
    "    print(next(l1))"
   ]
  },
  {
   "cell_type": "markdown",
   "id": "8199ad42-5459-480b-ba40-a32bc4da8900",
   "metadata": {},
   "source": [
    "# Q4. What is a generator function in python? Why yield keyword is used? Give an example of a generator function."
   ]
  },
  {
   "cell_type": "markdown",
   "id": "e8dc4e83-e22e-45c2-a71d-31a8ab3e5027",
   "metadata": {},
   "source": [
    "## In python a generator is a function that returns an iterator that produces a sequence of values when iterated over. Generators are useful when we want to produce a large sequence of values, but we don't want to store all of them in memory at once.\n",
    "## *yield* - yield keyword is used to create a generator function. "
   ]
  },
  {
   "cell_type": "code",
   "execution_count": 16,
   "id": "fe747cb6-996e-459a-a291-08b45c740027",
   "metadata": {},
   "outputs": [],
   "source": [
    "# creating a example for a generator function.\n",
    "def my_range(n):\n",
    "    i = 0\n",
    "    while i < n:\n",
    "        yield i\n",
    "        i += 1"
   ]
  },
  {
   "cell_type": "markdown",
   "id": "1f755008-bdbd-4a14-b63a-c1f54d37b46d",
   "metadata": {},
   "source": [
    "# Q5. Create a generator function for prime numbers less than 1000. Use the next() method to print the first 20 prime numbers."
   ]
  },
  {
   "cell_type": "code",
   "execution_count": 10,
   "id": "82911535-169d-4c5d-9fd7-79c87e92ef40",
   "metadata": {},
   "outputs": [
    {
     "name": "stdout",
     "output_type": "stream",
     "text": [
      "2\n",
      "3\n",
      "5\n",
      "7\n",
      "11\n",
      "13\n",
      "17\n",
      "19\n",
      "23\n",
      "29\n",
      "31\n",
      "37\n",
      "41\n",
      "43\n",
      "47\n",
      "53\n",
      "59\n",
      "61\n",
      "67\n",
      "71\n"
     ]
    }
   ],
   "source": [
    "def primes():\n",
    "    yield 2\n",
    "    primes_list = [2]\n",
    "    num = 3\n",
    "    while num < 1000:\n",
    "        is_prime = True\n",
    "        for prime in primes_list:\n",
    "            if num % prime == 0:\n",
    "                is_prime = False\n",
    "                break\n",
    "        if is_prime:\n",
    "            primes_list.append(num)\n",
    "            yield num\n",
    "        num += 1\n",
    "\n",
    "primes_gen = primes()\n",
    "for i in range(20):\n",
    "    print(next(primes_gen))"
   ]
  }
 ],
 "metadata": {
  "kernelspec": {
   "display_name": "Python 3 (ipykernel)",
   "language": "python",
   "name": "python3"
  },
  "language_info": {
   "codemirror_mode": {
    "name": "ipython",
    "version": 3
   },
   "file_extension": ".py",
   "mimetype": "text/x-python",
   "name": "python",
   "nbconvert_exporter": "python",
   "pygments_lexer": "ipython3",
   "version": "3.10.8"
  }
 },
 "nbformat": 4,
 "nbformat_minor": 5
}
