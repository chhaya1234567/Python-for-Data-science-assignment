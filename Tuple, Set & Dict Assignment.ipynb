{
 "cells": [
  {
   "cell_type": "markdown",
   "id": "35b7420a-3854-4d4b-b6b9-99e9bf00bcf5",
   "metadata": {
    "tags": []
   },
   "source": [
    "# Q1 - What are the characteristics of the tuples? Is tuple immutable?"
   ]
  },
  {
   "cell_type": "markdown",
   "id": "2033260b-bfa0-4b2b-bf3a-964cee199564",
   "metadata": {},
   "source": [
    "### Tuple are ordered, unchangeable, and allow duplicate values.\n",
    "### Tuple items are indexed, the first item has index [0], the second item has index [1] etc.\n",
    "\n",
    "### yes Tuples are immutable, which means that once a tuple is created, its elements cannot be modified or removed.However, it is possible to create a new tuple by concatenating or slicing existing tuples."
   ]
  },
  {
   "cell_type": "markdown",
   "id": "020fd59f-0e08-4eb2-a768-61fe99025bb9",
   "metadata": {},
   "source": [
    "# Q2. What are the two tuple methods in python? Give an example of each method. Give a reason why tuples have only two in-built methods as compared to Lists."
   ]
  },
  {
   "cell_type": "markdown",
   "id": "1dca33e1-46cf-4b59-a35c-c04b91f159b8",
   "metadata": {},
   "source": [
    "### There are only two tuple methods count() and index() that a tuple object can call.Tuples are immutable so there are only 2 in-built methods whereas List are mutable so there are more methods for Lists such as append,extend,pop etc."
   ]
  },
  {
   "cell_type": "code",
   "execution_count": 10,
   "id": "ccd66456-deae-4966-96d6-5233a6e39802",
   "metadata": {},
   "outputs": [
    {
     "name": "stdout",
     "output_type": "stream",
     "text": [
      "2\n",
      "3\n"
     ]
    }
   ],
   "source": [
    "                     ### Example for tuple in-built method\n",
    "                             # Count() Method\n",
    "## The count() method of Tuple returns the number of times the given element appears in the tuple.\n",
    "# Creating tuples\n",
    "my_first_tuple = (1,2,3,4,5,3)\n",
    "print(my_first_tuple.count(3)) # output: 1\n",
    "                   # Index() Method\n",
    "## The Index() method returns the first occurrence of the given element from the tuple.\n",
    "print(my_first_tuple.index(4)) # output: 3"
   ]
  },
  {
   "cell_type": "markdown",
   "id": "a183da3d-e75c-4f4a-9d80-f2efe45cb620",
   "metadata": {},
   "source": [
    "# Q3. Which collection datatypes in python do not allow duplicate items? Write a code using a set to removeduplicates from the given list.\n",
    "## List = [1, 1, 1, 2, 1, 3, 1, 4, 2, 1, 2, 2, 2, 3, 2, 4, 3, 1, 3, 2, 3, 3, 3, 4, 4, 1, 4, 2, 4, 3, 4, 4]"
   ]
  },
  {
   "cell_type": "markdown",
   "id": "516cc5ae-f930-49d4-a8c5-9e7c0f433f4b",
   "metadata": {},
   "source": [
    "### The collection datatype in Python that does not allow duplicate items is a set.  Here's an example of how to use a set to remove duplicates from the given list:python"
   ]
  },
  {
   "cell_type": "code",
   "execution_count": 11,
   "id": "f0ad3c12-b1c9-4d7b-844a-e42a08a2295a",
   "metadata": {},
   "outputs": [
    {
     "name": "stdout",
     "output_type": "stream",
     "text": [
      "[1, 2, 3, 4]\n"
     ]
    }
   ],
   "source": [
    "my_list = [1, 1, 1, 2, 1, 3, 1, 4, 2, 1, 2, 2, 2, 3, 2, 4, 3, 1, 3, 2, 3, 3, 3, 4, 4, 1, 4, 2, 4, 3, 4, 4]\n",
    "\n",
    "# Converting the list to a set to remove duplicates\n",
    "my_set = set(my_list)\n",
    "\n",
    "# Converting the set back to a list\n",
    "new_list = list(my_set)\n",
    "\n",
    "# Printing the new list without duplicates\n",
    "print(new_list) #output:[1, 2, 3, 4]"
   ]
  },
  {
   "cell_type": "markdown",
   "id": "5f140617-382e-4ffa-bef1-bc12223ab67d",
   "metadata": {},
   "source": [
    "# Q4. Explain the difference between the union() and update() methods for a set. Give an example ofeach method."
   ]
  },
  {
   "cell_type": "markdown",
   "id": "7d7f4d02-4b46-421c-824f-ec5b048ff13c",
   "metadata": {},
   "source": [
    "## Both union() and update() are methods that can be used to combine sets in Python. However, there is a key difference between the two methods: union() returns a new set that contains all the elements from the original set and one or more other sets, whereas update() modifies the original set by adding all the elements from one or more other sets to it."
   ]
  },
  {
   "cell_type": "markdown",
   "id": "e05f6fa6-71b3-4128-be0c-c9a3d3c2aa60",
   "metadata": {},
   "source": [
    "### Here are examples of using each method:"
   ]
  },
  {
   "cell_type": "code",
   "execution_count": 18,
   "id": "25c1c21d-91aa-4c84-a184-6c87a77b3101",
   "metadata": {},
   "outputs": [
    {
     "name": "stdout",
     "output_type": "stream",
     "text": [
      "{3, 5, 6, 9, 45}\n",
      "{3, 5, 6, 9, 45}\n"
     ]
    }
   ],
   "source": [
    "set1 = {9, 6,5}\n",
    "set2 = {3, 5, 45}\n",
    "\n",
    "# Using the union method to combine sets 1, 2, and 3 into a new set\n",
    "new_set = set1.union(set2)\n",
    "\n",
    "# Printing the new set\n",
    "print(new_set) # Output: {3, 5, 6, 9, 45}\n",
    "# Using the update method to add sets 2 and 3 to set 1\n",
    "set1.update(set2)\n",
    "\n",
    "# Printing the modified set 1\n",
    "print(set1) # Output: {3, 5, 6, 9, 45}"
   ]
  },
  {
   "cell_type": "markdown",
   "id": "b10cb7ec-8020-42fc-892c-4548d1eba1d0",
   "metadata": {},
   "source": [
    "# Q5. What is a dictionary? Give an example. Also, state whether a dictionary is ordered or unordered."
   ]
  },
  {
   "cell_type": "markdown",
   "id": "f50f2055-1b50-4cee-b65a-617440d94c0f",
   "metadata": {},
   "source": [
    "### Dictionaries are used to store data values in key:value pairs.A dictionary is a collection which is ordered*, changeable and do not allow duplicates.\n",
    "   ## ordered or unordered?\n",
    "### When we say that dictionaries are ordered, it means that the items have a defined order, and that order will not change.Unordered means that the items does not have a defined order, you cannot refer to an item by using an index.\n"
   ]
  },
  {
   "cell_type": "code",
   "execution_count": 21,
   "id": "78f29142-67be-4838-99b9-b3f5e9019454",
   "metadata": {},
   "outputs": [
    {
     "name": "stdout",
     "output_type": "stream",
     "text": [
      "{'Nepal': 'Kathmandu', 'Italy': 'Rome', 'England': 'London'}\n"
     ]
    }
   ],
   "source": [
    "# Example for dictionary -\n",
    "capital_city = {\"Nepal\": \"Kathmandu\", \"Italy\": \"Rome\", \"England\": \"London\"}\n",
    "print(capital_city)"
   ]
  },
  {
   "cell_type": "markdown",
   "id": "a8b12a2b-8089-4faa-b1ef-ae371a8ecb4a",
   "metadata": {},
   "source": [
    "# Q6. Can we create a nested dictionary? If so, please give an example by creating a simple one-level nested dictionary."
   ]
  },
  {
   "cell_type": "markdown",
   "id": "272b9625-44d8-411c-b0b6-58f7d1bd8db1",
   "metadata": {},
   "source": [
    "### Yes, we can create a nested dictionary in Python.Nested Dictionary means putting a dictionary inside another dictionary."
   ]
  },
  {
   "cell_type": "code",
   "execution_count": 23,
   "id": "81e95856-c834-4118-aacb-be6dffd6d5e9",
   "metadata": {},
   "outputs": [
    {
     "name": "stdout",
     "output_type": "stream",
     "text": [
      "{'dict1': {'key_A': 'Hard work'}, 'dict2': {'key_B': 'Smart work'}}\n"
     ]
    }
   ],
   "source": [
    "# creating a nested dictionary\n",
    "nested_dict = { 'dict1': {'key_A': 'Hard work'},\n",
    "                'dict2': {'key_B': 'Smart work'}}\n",
    "print(nested_dict)"
   ]
  },
  {
   "cell_type": "markdown",
   "id": "8acd63a6-3f85-49e6-ad08-01d104bb264d",
   "metadata": {
    "tags": []
   },
   "source": [
    "# Q7. Using setdefault() method, create key named topics in the given dictionary and also add the value ofthe key as this list ['Python', 'Machine Learning’, 'Deep Learning'] dict1 = {'language' : 'Python', 'course': 'Data Science Masters'}"
   ]
  },
  {
   "cell_type": "code",
   "execution_count": 25,
   "id": "6319c065-035a-4435-9c59-86330e07a9df",
   "metadata": {},
   "outputs": [
    {
     "data": {
      "text/plain": [
       "{'language': 'Python',\n",
       " 'course': 'Data Science Masters',\n",
       " 'Programming skills': ['Python', 'Machine Learning', 'Deep Learning']}"
      ]
     },
     "execution_count": 25,
     "metadata": {},
     "output_type": "execute_result"
    }
   ],
   "source": [
    "# writting a program by using setdefault() method\n",
    "dict1 = {'language' : 'Python', 'course': 'Data Science Masters'}\n",
    "dict1.setdefault(\"Programming skills\",[\"Python\",\"Machine Learning\",\"Deep Learning\"])\n",
    "dict1"
   ]
  },
  {
   "cell_type": "markdown",
   "id": "5a506250-9781-46f3-b408-ae5517ca197d",
   "metadata": {},
   "source": [
    "# Q8. What are the three view objects in dictionaries? Use the three in-built methods in python to displaythese three view objects for the given dictionary.dict1 = {'Sport': 'Cricket' , 'Teams': ['India', 'Australia', 'England', 'South Africa', 'Sri Lanka', 'New Zealand']}"
   ]
  },
  {
   "cell_type": "markdown",
   "id": "ed0a4e90-56ff-4a37-9bc7-e2801bad8b33",
   "metadata": {},
   "source": [
    "### keys, values and items are the three view objects in dictionary . keys(),values() and items() are the three in-built methods in python to display three view objects of adictionary\n",
    "### The **keys()** method in Python Dictionary, returns a view object that displays a list of all the keys in the dictionary in order of insertion using Python.\n",
    "### **values()** is an inbuilt method in Python programming language that returns a view object. The view object contains the values of the dictionary, as a list.\n",
    "### **items()** method is used to return the list with all dictionary keys with values."
   ]
  },
  {
   "cell_type": "code",
   "execution_count": 26,
   "id": "b6105909-5614-44e8-9702-d300271f1d89",
   "metadata": {},
   "outputs": [
    {
     "name": "stdout",
     "output_type": "stream",
     "text": [
      "dict_keys(['Sport', 'Teams'])\n",
      "dict_values(['Cricket', ['India', 'Australia', 'England', 'South Africa', 'Sri Lanka', 'New Zealand']])\n",
      "dict_items([('Sport', 'Cricket'), ('Teams', ['India', 'Australia', 'England', 'South Africa', 'Sri Lanka', 'New Zealand'])])\n"
     ]
    }
   ],
   "source": [
    "dict1 = {'Sport': 'Cricket' , 'Teams': ['India', 'Australia', 'England', 'South Africa', 'Sri Lanka', 'New Zealand']}\n",
    "# printing the keys view object\n",
    "print(dict1.keys())\n",
    "# printing the values view object\n",
    "print(dict1.values())\n",
    "# printing the items view object\n",
    "print(dict1.items())"
   ]
  },
  {
   "cell_type": "code",
   "execution_count": null,
   "id": "f226fa90-0caa-4b7a-9373-c4c1de12ce40",
   "metadata": {},
   "outputs": [],
   "source": []
  }
 ],
 "metadata": {
  "kernelspec": {
   "display_name": "Python 3 (ipykernel)",
   "language": "python",
   "name": "python3"
  },
  "language_info": {
   "codemirror_mode": {
    "name": "ipython",
    "version": 3
   },
   "file_extension": ".py",
   "mimetype": "text/x-python",
   "name": "python",
   "nbconvert_exporter": "python",
   "pygments_lexer": "ipython3",
   "version": "3.10.8"
  }
 },
 "nbformat": 4,
 "nbformat_minor": 5
}
